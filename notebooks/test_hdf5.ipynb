{
 "cells": [
  {
   "cell_type": "code",
   "execution_count": 1,
   "metadata": {},
   "outputs": [],
   "source": [
    "using HDF5"
   ]
  },
  {
   "cell_type": "code",
   "execution_count": 2,
   "metadata": {},
   "outputs": [],
   "source": [
    "global const fid::HDF5.File        = h5open(\"/home/nabil/work/projects/hrfile_hdf5_converter/cmake-build-debug/wann.hdf5\", \"r\") \n",
    "global const nw::Int64             = read(fid[\"nw\"])\n",
    "global const nr::Int64             = read(fid[\"nr\"]);\n",
    "\n",
    "global const h::Vector{ComplexF64} = read(fid[\"reH\"]) + im * read(fid[\"imH\"]);\n",
    "global const r::Matrix{ComplexF64} = reshape(read(fid[\"rvecs\"]), (nr, 3));\n",
    "\n"
   ]
  },
  {
   "cell_type": "code",
   "execution_count": null,
   "metadata": {},
   "outputs": [],
   "source": [
    "@inline function hk(k, hvec, rvec)\n",
    "    Rsum::ComplexF64 = 0.0 + 0.0im\n",
    "    for R = 1 : nr\n",
    "        eikR = exp(2π * im * dot(k, rvec[iR, :]))\n",
    "        for n1 = 0:(nw - 1)\n",
    "            for n2 = 0:(nw - 1)\n",
    "                hsum += h[n1 * nw * nr + n2 * nr + R] * phase\n",
    "            end\n",
    "        end\n",
    "    end\n",
    "    return hsum\n",
    "end"
   ]
  }
 ],
 "metadata": {
  "kernelspec": {
   "display_name": "Julia 1.11.4",
   "language": "julia",
   "name": "julia-1.11"
  },
  "language_info": {
   "file_extension": ".jl",
   "mimetype": "application/julia",
   "name": "julia",
   "version": "1.11.4"
  }
 },
 "nbformat": 4,
 "nbformat_minor": 2
}
