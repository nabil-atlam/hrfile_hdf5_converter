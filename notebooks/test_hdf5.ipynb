{
 "cells": [
  {
   "cell_type": "code",
   "execution_count": 1,
   "metadata": {},
   "outputs": [],
   "source": [
    "using HDF5\n",
    "using LinearAlgebra"
   ]
  },
  {
   "cell_type": "code",
   "execution_count": 2,
   "metadata": {},
   "outputs": [],
   "source": [
    "global const fid::HDF5.File          = h5open(\"/home/nabil/work/projects/hrfile_hdf5_converter/cmake-build-debug/wann.hdf5\", \"r\") \n",
    "global const nw::Int64               = read(fid[\"nw\"])\n",
    "global const nr::Int64               = read(fid[\"nr\"]);\n",
    "\n",
    "global const h::Array{ComplexF64, 3} = reshape(read(fid[\"reH\"]) + im * read(fid[\"imH\"]), (nr, nw, nw));\n",
    "global const r::Matrix{ComplexF64}   = reshape(read(fid[\"rvecs\"]), (nr, 3));\n",
    "\n",
    "close(fid)\n"
   ]
  },
  {
   "cell_type": "code",
   "execution_count": 3,
   "metadata": {},
   "outputs": [],
   "source": [
    "# Lattice Constants \n",
    "global const A₁::Vector{Float64} = [3.9413692012334867, -0.0000000000000000, 0.0000000000000000] \n",
    "global const A₂::Vector{Float64} = [0.0000000000000000,  3.9413692012334867, 0.0000000000000000]\n",
    "global const A₃::Vector{Float64} = [0.0000000000000000, 0.0000000000000000,  3.9413692012334867]\n",
    "global const A::Matrix{Float64}  = hcat(A₁, A₂, A₃)'  \n",
    "global const G::Matrix{Float64}  = 2π * inv(A)'\n",
    "global const G₁::Vector{Float64} = G[1, :]\n",
    "global const G₂::Vector{Float64} = G[2, :]\n",
    "global const G₃::Vector{Float64} = G[3, :];"
   ]
  },
  {
   "cell_type": "code",
   "execution_count": 4,
   "metadata": {},
   "outputs": [
    {
     "data": {
      "text/plain": [
       "4-element Vector{Vector{Float64}}:\n",
       " [0.0, 0.0, 0.0]\n",
       " [0.5, 0.5, 0.0]\n",
       " [0.5, 0.0, 0.0]\n",
       " [0.0, 0.0, 0.0]"
      ]
     },
     "metadata": {},
     "output_type": "display_data"
    }
   ],
   "source": [
    "# K-Path \n",
    "global const nodes::Vector{Vector{Float64}} = [[0.0, 0.0, 0.0],\n",
    "         [0.5, 0.5, 0.0],\n",
    "         [0.5, 0.0, 0.0],\n",
    "         [0.0, 0.0, 0.0]]"
   ]
  },
  {
   "cell_type": "code",
   "execution_count": 5,
   "metadata": {},
   "outputs": [
    {
     "data": {
      "text/plain": [
       "kpath_connect_nodes_red (generic function with 1 method)"
      ]
     },
     "metadata": {},
     "output_type": "display_data"
    }
   ],
   "source": [
    "function kpath_connect_nodes_red(nodes, A₁, A₂, A₃, nk)\n",
    "    ks_red = Vector{Vector{Float64}}()\n",
    "    for ik ∈ 1 : length(nodes) - 1\n",
    "        start_node = nodes[ik]\n",
    "        end_node   = nodes[ik + 1]\n",
    "        pts        = LinRange(start_node, end_node, nk)\n",
    "        if ik != length(nodes) - 1\n",
    "            pts = pts[1 : end - 1]\n",
    "        end\n",
    "        append!(ks_red, pts)\n",
    "    end\n",
    "    reduce(hcat, ks_red)'\n",
    "end"
   ]
  },
  {
   "cell_type": "code",
   "execution_count": 14,
   "metadata": {},
   "outputs": [
    {
     "name": "stderr",
     "output_type": "stream",
     "text": [
      "WARNING: redefinition of constant Main.ks_red. This may fail, cause incorrect answers, or produce other errors.\n"
     ]
    }
   ],
   "source": [
    "global const ks_red::Matrix{Float64} = kpath_connect_nodes_red(nodes, A₁, A₂, A₃, 100);\n"
   ]
  },
  {
   "cell_type": "code",
   "execution_count": 18,
   "metadata": {},
   "outputs": [
    {
     "data": {
      "text/plain": [
       "hk (generic function with 1 method)"
      ]
     },
     "metadata": {},
     "output_type": "display_data"
    }
   ],
   "source": [
    "# Compute e^ikR Matrix \n",
    "function calculate_eikR_mat(ks_red::Matrix{Float64}, Rs::Matrix{ComplexF64}, nk, nr)\n",
    "    eikR_mat::Matrix{ComplexF64} = zeros(ComplexF64, nk, nr)\n",
    "    @inbounds Threads.@threads for ik = 1 : nk\n",
    "        @inbounds for iR = 1 : nr\n",
    "            eikR_mat[ik, iR] = cispi(2 * dot(ks_red[ik, :], @view Rs[iR, :]))\n",
    "        end\n",
    "    end\n",
    "    eikR_mat\n",
    "end\n",
    "\n",
    "@inline function ek(h, eikR, nw, nr)\n",
    "    Rsum::Matrix{ComplexF64} = zeros(ComplexF64, nw, nw)\n",
    "    @inbounds Threads.@threads for iR ∈ 1 : size(eikR, 2)\n",
    "        @inbounds for ik ∈ 1 : size(eikR, 1)\n",
    "            @inbounds for α = 1 : nw \n",
    "                @inbounds for β = 1 : nw \n",
    "                    Rsum[α, β] += h[iR][α][β] * eikR[ik, iR]\n",
    "                end\n",
    "            end\n",
    "        end\n",
    "        \n",
    "    return hsum\n",
    "end"
   ]
  },
  {
   "cell_type": "code",
   "execution_count": 21,
   "metadata": {},
   "outputs": [
    {
     "name": "stderr",
     "output_type": "stream",
     "text": [
      "WARNING: redefinition of constant Main.eikR_mat. This may fail, cause incorrect answers, or produce other errors.\n"
     ]
    }
   ],
   "source": [
    "global const eikR_mat::Matrix{ComplexF64} = calculate_eikR_mat(ks_red, r, size(ks_red, 1), nr);"
   ]
  },
  {
   "cell_type": "code",
   "execution_count": 47,
   "metadata": {},
   "outputs": [
    {
     "data": {
      "text/plain": [
       "1043×3 Matrix{ComplexF64}:\n",
       " -7.0+0.0im   1.0+0.0im   2.0+0.0im\n",
       " -4.0+0.0im  -2.0+0.0im  -1.0+0.0im\n",
       " -3.0+0.0im  -2.0+0.0im   2.0+0.0im\n",
       " -7.0+0.0im   2.0+0.0im   2.0+0.0im\n",
       " -4.0+0.0im  -2.0+0.0im   0.0+0.0im\n",
       " -2.0+0.0im  -2.0+0.0im   2.0+0.0im\n",
       " -7.0+0.0im   3.0+0.0im   2.0+0.0im\n",
       " -4.0+0.0im  -2.0+0.0im   1.0+0.0im\n",
       " -1.0+0.0im  -1.0+0.0im   2.0+0.0im\n",
       " -7.0+0.0im  -3.0+0.0im   2.0+0.0im\n",
       "     ⋮                   \n",
       " -2.0+0.0im   1.0+0.0im   7.0+0.0im\n",
       " -2.0+0.0im   3.0+0.0im   4.0+0.0im\n",
       " -2.0+0.0im   2.0+0.0im   1.0+0.0im\n",
       " -1.0+0.0im   2.0+0.0im   7.0+0.0im\n",
       " -2.0+0.0im  -3.0+0.0im   4.0+0.0im\n",
       " -2.0+0.0im   2.0+0.0im   2.0+0.0im\n",
       "  0.0+0.0im   2.0+0.0im   7.0+0.0im\n",
       " -2.0+0.0im  -2.0+0.0im   4.0+0.0im\n",
       " -2.0+0.0im   2.0+0.0im   3.0+0.0im"
      ]
     },
     "metadata": {},
     "output_type": "display_data"
    }
   ],
   "source": [
    "r"
   ]
  }
 ],
 "metadata": {
  "kernelspec": {
   "display_name": "Julia 1.11.4",
   "language": "julia",
   "name": "julia-1.11"
  },
  "language_info": {
   "file_extension": ".jl",
   "mimetype": "application/julia",
   "name": "julia",
   "version": "1.11.4"
  }
 },
 "nbformat": 4,
 "nbformat_minor": 2
}
