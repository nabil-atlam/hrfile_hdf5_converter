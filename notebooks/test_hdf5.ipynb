{
 "cells": [
  {
   "cell_type": "code",
   "execution_count": 1,
   "metadata": {},
   "outputs": [],
   "source": [
    "using HDF5"
   ]
  },
  {
   "cell_type": "code",
   "execution_count": 2,
   "metadata": {},
   "outputs": [],
   "source": [
    "global const fid::HDF5.File        = h5open(\"/home/nabil/work/projects/hrfile_hdf5_converter/cmake-build-debug/wann.hdf5\", \"r\") \n",
    "global const nw::Int64             = read(fid[\"nw\"])\n",
    "global const nr::Int64             = read(fid[\"nr\"]);\n",
    "\n",
    "global const h::Vector{ComplexF64} = read(fid[\"reH\"]) + im * read(fid[\"imH\"]);\n",
    "global const r::Matrix{ComplexF64} = reshape(read(fid[\"rvecs\"]), (nr, 3));\n",
    "\n"
   ]
  },
  {
   "cell_type": "code",
   "execution_count": null,
   "metadata": {},
   "outputs": [
    {
     "data": {
      "text/plain": [
       "hk (generic function with 1 method)"
      ]
     },
     "metadata": {},
     "output_type": "display_data"
    }
   ],
   "source": [
    "# Compute e^ikR Matrix \n",
    "function calculate_eikR_mat(ks_red::Matrix{Float64}, Rs::Matrix{ComplexF64}, nk, nr)\n",
    "    eikR_mat::Matrix{ComplexF64} = zeros(ComplexF64, nk, nr)\n",
    "    @inbounds Threads.@threads for ik = 1 : nk\n",
    "        @inbounds for iR = 1 : nr\n",
    "            eikR_mat[ik, iR] = exp(2π * im * dot(@view ks_red[ik, :], @view Rs[iR, :]))\n",
    "        end\n",
    "    end\n",
    "    eikR_mat\n",
    "end\n",
    "\n",
    "@inline function hk(k, hvec, rvec, nw, nr)\n",
    "    Rsum::Matrix{ComplexF64} = zeros(ComplexF64, nw, nw)\n",
    "    @inbounds Threads.@threads for iR = 1 : nr\n",
    "        eikR = exp(2π * im * dot(k, @view rvec[iR, :]))\n",
    "        @inbounds for α = 1 : nw \n",
    "            @inbounds for β = 1 : nw \n",
    "                Rsum[α, β] += h[iR + nw * nr * α + nr * β] * eikR\n",
    "            end\n",
    "        end\n",
    "    end\n",
    "    return hsum\n",
    "end"
   ]
  }
 ],
 "metadata": {
  "kernelspec": {
   "display_name": "Julia 1.11.4",
   "language": "julia",
   "name": "julia-1.11"
  },
  "language_info": {
   "file_extension": ".jl",
   "mimetype": "application/julia",
   "name": "julia",
   "version": "1.11.4"
  }
 },
 "nbformat": 4,
 "nbformat_minor": 2
}
