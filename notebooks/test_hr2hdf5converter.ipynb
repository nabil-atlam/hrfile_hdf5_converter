{
 "cells": [
  {
   "cell_type": "code",
   "execution_count": 1,
   "metadata": {},
   "outputs": [],
   "source": [
    "using HDF5\n",
    "using LinearAlgebra\n",
    "using Makie \n",
    "using GLMakie\n"
   ]
  },
  {
   "cell_type": "code",
   "execution_count": 2,
   "metadata": {},
   "outputs": [],
   "source": [
    "global const fid::HDF5.File          = h5open(\"/home/nabil/work/projects/hrfile_hdf5_converter/cmake-build-debug/wann.hdf5\", \"r\") \n",
    "global const nw::Int64               = read(fid[\"nw\"])\n",
    "global const nr::Int64               = read(fid[\"nr\"]);\n",
    "\n",
    "global const h::Array{ComplexF64, 1} = read(fid[\"reH\"]) + im * read(fid[\"imH\"])\n",
    "global const r::Matrix{ComplexF64}   = reshape(read(fid[\"rvecs\"]), (3, nr))';\n",
    "\n",
    "close(fid)\n"
   ]
  },
  {
   "cell_type": "code",
   "execution_count": 3,
   "metadata": {},
   "outputs": [],
   "source": [
    "# Lattice Constants \n",
    "global const A₁::Vector{Float64} = [3.9413692012334867, -0.0000000000000000, 0.0000000000000000] \n",
    "global const A₂::Vector{Float64} = [0.0000000000000000,  3.9413692012334867, 0.0000000000000000]\n",
    "global const A₃::Vector{Float64} = [0.0000000000000000, 0.0000000000000000,  3.9413692012334867]\n",
    "global const A::Matrix{Float64}  = hcat(A₁, A₂, A₃)'  \n",
    "global const G::Matrix{Float64}  = 2π * inv(A)'\n",
    "global const G₁::Vector{Float64} = G[1, :]\n",
    "global const G₂::Vector{Float64} = G[2, :]\n",
    "global const G₃::Vector{Float64} = G[3, :];\n",
    "\n",
    "\n",
    "global const nk::Int64 = 100; # Number of k-points along each direction"
   ]
  },
  {
   "cell_type": "code",
   "execution_count": 4,
   "metadata": {},
   "outputs": [],
   "source": [
    "# K-Path \n",
    "global const nodes::Vector{Vector{Float64}} = [[0.0, 0.0, 0.0],\n",
    "         [0.5, 0.5, 0.0],\n",
    "         [0.5, 0.0, 0.0],\n",
    "         [0.0, 0.0, 0.0]];"
   ]
  },
  {
   "cell_type": "code",
   "execution_count": 5,
   "metadata": {},
   "outputs": [
    {
     "data": {
      "text/plain": [
       "kpath_connect_nodes_red (generic function with 1 method)"
      ]
     },
     "metadata": {},
     "output_type": "display_data"
    }
   ],
   "source": [
    "function kpath_connect_nodes_red(nodes, nk)\n",
    "    ks_red = Vector{Vector{Float64}}()\n",
    "    for ik ∈ 1 : length(nodes) - 1\n",
    "        start_node = nodes[ik]\n",
    "        end_node   = nodes[ik + 1]\n",
    "        pts        = LinRange(start_node, end_node, nk)\n",
    "        if ik != length(nodes) - 1\n",
    "            pts = pts[1 : end - 1]\n",
    "        end\n",
    "        append!(ks_red, pts)\n",
    "    end\n",
    "    reduce(hcat, ks_red)'\n",
    "end"
   ]
  },
  {
   "cell_type": "code",
   "execution_count": null,
   "metadata": {},
   "outputs": [
    {
     "name": "stderr",
     "output_type": "stream",
     "text": [
      "WARNING: redefinition of constant Main.ks_red. This may fail, cause incorrect answers, or produce other errors.\n"
     ]
    }
   ],
   "source": [
    "\n",
    "# Calculate the k-path in cartesian coordinates \n",
    "function red_to_cart(ks_red, G₁, G₂, G₃)\n",
    "    ks_cart::Matrix{Float64} = zeros(Float64, size(ks_red, 1), 3)\n",
    "    for ik ∈ axes(ks_red, 1)\n",
    "        k_red  = ks_red[ik, :]\n",
    "        ks_cart[ik, :] = k_red[1] * G₁ + k_red[2] * G₂ + k_red[3] * G₃\n",
    "    end\n",
    "    ks_cart\n",
    "end\n",
    "\n",
    "\n",
    "function calc_xs(ks_cart)\n",
    "    xs = Vector{Float64}(undef, size(ks_cart, 1))\n",
    "    xs[1] = 0.0\n",
    "    for ik ∈ 2 : size(ks_cart, 1)\n",
    "        dk = ks_cart[ik, :] - ks_cart[ik - 1, :]\n",
    "        xs[ik] = xs[ik - 1] + norm(dk)\n",
    "    end\n",
    "    xs\n",
    "end\n",
    "\n",
    "global const ks_red::Matrix{Float64}  = kpath_connect_nodes_red(nodes, nk);\n",
    "global const ks_cart::Matrix{Float64} = red_to_cart(ks_red, G₁, G₂, G₃);\n",
    "global const xs::Vector{Float64}      = calc_xs(ks_cart);\n"
   ]
  },
  {
   "cell_type": "code",
   "execution_count": 7,
   "metadata": {},
   "outputs": [
    {
     "data": {
      "text/plain": [
       "ek (generic function with 1 method)"
      ]
     },
     "metadata": {},
     "output_type": "display_data"
    }
   ],
   "source": [
    "# Compute e^ikR Matrix \n",
    "function calculate_eikR_mat(ks_red::Matrix{Float64}, Rs::Matrix{ComplexF64}, nk, nr)\n",
    "    eikR_mat::Matrix{ComplexF64} = zeros(ComplexF64, nk, nr)\n",
    "    @inbounds Threads.@threads for ik ∈ 1 : nk\n",
    "        @inbounds for iR ∈ 1 : nr\n",
    "            eikR_mat[ik, iR] = cispi(2 * dot(ks_red[ik, :], Rs[iR, :]))\n",
    "        end\n",
    "    end\n",
    "    eikR_mat\n",
    "end\n",
    "\n",
    "@inline function ek(h, eikR, nw, nr)\n",
    "    Res::Matrix{Float64}     = zeros(Float64, nw, size(eikR, 1))\n",
    "    for ik ∈ 1 : size(eikR, 1)\n",
    "        Rsum::Matrix{ComplexF64} = zeros(ComplexF64, nw, nw)\n",
    "        for α ∈ 0 : nw - 1 \n",
    "            for β ∈ 0 : nw - 1 \n",
    "                for iR ∈ 0 : size(eikR, 2) - 1\n",
    "                    Rsum[α + 1, β + 1] += h[iR + nr * nw * α + nr * β + 1] * eikR[ik, iR + 1]\n",
    "                end # β\n",
    "            end   # α\n",
    "        end # iR\n",
    "        Res[:, ik] = eigvals(Hermitian(Rsum))\n",
    "    end # ik \n",
    "        \n",
    "    return Res\n",
    "end"
   ]
  },
  {
   "cell_type": "code",
   "execution_count": 8,
   "metadata": {},
   "outputs": [],
   "source": [
    "global const eikR_mat::Matrix{ComplexF64} = calculate_eikR_mat(ks_red, r, size(ks_red, 1), nr);\n",
    "global const eks::Matrix{Float64}         = ek(h, eikR_mat, nw, nr);\n"
   ]
  },
  {
   "cell_type": "code",
   "execution_count": 67,
   "metadata": {},
   "outputs": [],
   "source": [
    "let \n",
    "    f = Figure(size = (1000, 1000))\n",
    "    ax = Axis(f[1, 1])\n",
    "    for i ∈ 1 : nw\n",
    "        lines!(ax, xs, eks[i, :], color = :blue)\n",
    "    end\n",
    "    save(\"bands.png\", f)\n",
    "end\n",
    "\n"
   ]
  }
 ],
 "metadata": {
  "kernelspec": {
   "display_name": "Julia 1.11.4",
   "language": "julia",
   "name": "julia-1.11"
  },
  "language_info": {
   "file_extension": ".jl",
   "mimetype": "application/julia",
   "name": "julia",
   "version": "1.11.4"
  }
 },
 "nbformat": 4,
 "nbformat_minor": 2
}
